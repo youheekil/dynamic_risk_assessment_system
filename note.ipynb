{
 "cells": [
  {
   "cell_type": "code",
   "execution_count": 2,
   "outputs": [],
   "source": [
    "import pandas as pd"
   ],
   "metadata": {
    "collapsed": false,
    "pycharm": {
     "name": "#%%\n"
    }
   }
  },
  {
   "cell_type": "code",
   "execution_count": 3,
   "outputs": [],
   "source": [
    "dependencies_list = pd.read_csv(\"installed.csv\")"
   ],
   "metadata": {
    "collapsed": false,
    "pycharm": {
     "name": "#%%\n"
    }
   }
  },
  {
   "cell_type": "code",
   "execution_count": 7,
   "outputs": [
    {
     "data": {
      "text/plain": "25"
     },
     "execution_count": 7,
     "metadata": {},
     "output_type": "execute_result"
    }
   ],
   "source": [
    "len(dependencies_list)"
   ],
   "metadata": {
    "collapsed": false,
    "pycharm": {
     "name": "#%%\n"
    }
   }
  },
  {
   "cell_type": "code",
   "execution_count": 17,
   "outputs": [],
   "source": [
    "package = []; installed_version = []; available_version = []\n",
    "for idx in range(1, len(dependencies_list)):\n",
    "    a = list(dependencies_list.iloc[idx])[0]\n",
    "    b = \" \".join(a.split())\n",
    "    l = b.split()\n",
    "    package.append(l[0])\n",
    "    installed_version.append(l[1])\n",
    "    available_version.append(l[2])"
   ],
   "metadata": {
    "collapsed": false,
    "pycharm": {
     "name": "#%%\n"
    }
   }
  },
  {
   "cell_type": "code",
   "execution_count": 22,
   "outputs": [],
   "source": [
    "dependencies_table = pd.DataFrame(list(zip(package, installed_version, available_version)),\n",
    "                   columns=['package', 'installed_version', 'available_version'])"
   ],
   "metadata": {
    "collapsed": false,
    "pycharm": {
     "name": "#%%\n"
    }
   }
  },
  {
   "cell_type": "code",
   "execution_count": 23,
   "outputs": [
    {
     "data": {
      "text/plain": "            package installed_version available_version\n0             click             7.1.2             8.0.3\n1            cycler            0.10.0            0.11.0\n2             Flask             1.1.2             2.0.2\n3          gunicorn            20.0.4            20.1.0\n4      itsdangerous             1.1.0             2.0.1\n5            Jinja2            2.11.3             3.0.3\n6            joblib             1.0.1             1.1.0\n7        kiwisolver             1.3.1             1.3.2\n8        MarkupSafe             1.1.1             2.0.1\n9        matplotlib             3.3.4             3.5.1\n10           mccabe             0.6.1             0.7.0\n11            numpy            1.20.1            1.21.5\n12           pandas             1.2.2             1.3.5\n13           Pillow             8.1.0             9.0.1\n14        pyparsing             2.4.7             3.0.7\n15  python-dateutil             2.8.1             2.8.2\n16             pytz            2021.1            2021.3\n17     scikit-learn            0.24.1             1.0.2\n18            scipy             1.6.1             1.7.3\n19          seaborn            0.11.1            0.11.2\n20       setuptools            60.3.1            60.8.0\n21              six            1.15.0            1.16.0\n22    threadpoolctl             2.1.0             3.1.0\n23         Werkzeug             1.0.1             2.0.2",
      "text/html": "<div>\n<style scoped>\n    .dataframe tbody tr th:only-of-type {\n        vertical-align: middle;\n    }\n\n    .dataframe tbody tr th {\n        vertical-align: top;\n    }\n\n    .dataframe thead th {\n        text-align: right;\n    }\n</style>\n<table border=\"1\" class=\"dataframe\">\n  <thead>\n    <tr style=\"text-align: right;\">\n      <th></th>\n      <th>package</th>\n      <th>installed_version</th>\n      <th>available_version</th>\n    </tr>\n  </thead>\n  <tbody>\n    <tr>\n      <th>0</th>\n      <td>click</td>\n      <td>7.1.2</td>\n      <td>8.0.3</td>\n    </tr>\n    <tr>\n      <th>1</th>\n      <td>cycler</td>\n      <td>0.10.0</td>\n      <td>0.11.0</td>\n    </tr>\n    <tr>\n      <th>2</th>\n      <td>Flask</td>\n      <td>1.1.2</td>\n      <td>2.0.2</td>\n    </tr>\n    <tr>\n      <th>3</th>\n      <td>gunicorn</td>\n      <td>20.0.4</td>\n      <td>20.1.0</td>\n    </tr>\n    <tr>\n      <th>4</th>\n      <td>itsdangerous</td>\n      <td>1.1.0</td>\n      <td>2.0.1</td>\n    </tr>\n    <tr>\n      <th>5</th>\n      <td>Jinja2</td>\n      <td>2.11.3</td>\n      <td>3.0.3</td>\n    </tr>\n    <tr>\n      <th>6</th>\n      <td>joblib</td>\n      <td>1.0.1</td>\n      <td>1.1.0</td>\n    </tr>\n    <tr>\n      <th>7</th>\n      <td>kiwisolver</td>\n      <td>1.3.1</td>\n      <td>1.3.2</td>\n    </tr>\n    <tr>\n      <th>8</th>\n      <td>MarkupSafe</td>\n      <td>1.1.1</td>\n      <td>2.0.1</td>\n    </tr>\n    <tr>\n      <th>9</th>\n      <td>matplotlib</td>\n      <td>3.3.4</td>\n      <td>3.5.1</td>\n    </tr>\n    <tr>\n      <th>10</th>\n      <td>mccabe</td>\n      <td>0.6.1</td>\n      <td>0.7.0</td>\n    </tr>\n    <tr>\n      <th>11</th>\n      <td>numpy</td>\n      <td>1.20.1</td>\n      <td>1.21.5</td>\n    </tr>\n    <tr>\n      <th>12</th>\n      <td>pandas</td>\n      <td>1.2.2</td>\n      <td>1.3.5</td>\n    </tr>\n    <tr>\n      <th>13</th>\n      <td>Pillow</td>\n      <td>8.1.0</td>\n      <td>9.0.1</td>\n    </tr>\n    <tr>\n      <th>14</th>\n      <td>pyparsing</td>\n      <td>2.4.7</td>\n      <td>3.0.7</td>\n    </tr>\n    <tr>\n      <th>15</th>\n      <td>python-dateutil</td>\n      <td>2.8.1</td>\n      <td>2.8.2</td>\n    </tr>\n    <tr>\n      <th>16</th>\n      <td>pytz</td>\n      <td>2021.1</td>\n      <td>2021.3</td>\n    </tr>\n    <tr>\n      <th>17</th>\n      <td>scikit-learn</td>\n      <td>0.24.1</td>\n      <td>1.0.2</td>\n    </tr>\n    <tr>\n      <th>18</th>\n      <td>scipy</td>\n      <td>1.6.1</td>\n      <td>1.7.3</td>\n    </tr>\n    <tr>\n      <th>19</th>\n      <td>seaborn</td>\n      <td>0.11.1</td>\n      <td>0.11.2</td>\n    </tr>\n    <tr>\n      <th>20</th>\n      <td>setuptools</td>\n      <td>60.3.1</td>\n      <td>60.8.0</td>\n    </tr>\n    <tr>\n      <th>21</th>\n      <td>six</td>\n      <td>1.15.0</td>\n      <td>1.16.0</td>\n    </tr>\n    <tr>\n      <th>22</th>\n      <td>threadpoolctl</td>\n      <td>2.1.0</td>\n      <td>3.1.0</td>\n    </tr>\n    <tr>\n      <th>23</th>\n      <td>Werkzeug</td>\n      <td>1.0.1</td>\n      <td>2.0.2</td>\n    </tr>\n  </tbody>\n</table>\n</div>"
     },
     "execution_count": 23,
     "metadata": {},
     "output_type": "execute_result"
    }
   ],
   "source": [
    "dependencies_table"
   ],
   "metadata": {
    "collapsed": false,
    "pycharm": {
     "name": "#%%\n"
    }
   }
  },
  {
   "cell_type": "code",
   "execution_count": null,
   "outputs": [],
   "source": [],
   "metadata": {
    "collapsed": false,
    "pycharm": {
     "name": "#%%\n"
    }
   }
  }
 ],
 "metadata": {
  "kernelspec": {
   "display_name": "Python 3",
   "language": "python",
   "name": "python3"
  },
  "language_info": {
   "codemirror_mode": {
    "name": "ipython",
    "version": 2
   },
   "file_extension": ".py",
   "mimetype": "text/x-python",
   "name": "python",
   "nbconvert_exporter": "python",
   "pygments_lexer": "ipython2",
   "version": "2.7.6"
  }
 },
 "nbformat": 4,
 "nbformat_minor": 0
}